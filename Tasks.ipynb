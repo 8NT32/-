{
  "nbformat": 4,
  "nbformat_minor": 0,
  "metadata": {
    "colab": {
      "name": "Untitled1.ipynb",
      "provenance": []
    },
    "kernelspec": {
      "name": "python3",
      "display_name": "Python 3"
    }
  },
  "cells": [
    {
      "cell_type": "markdown",
      "metadata": {
        "id": "hlhW74v-YXPm"
      },
      "source": [
        "Получите байт-код для функции func, используя dis и выведите его на экран"
      ]
    },
    {
      "cell_type": "code",
      "metadata": {
        "id": "XCSIPGXxYJT5"
      },
      "source": [
        "def func(alist):\n",
        "    return len(alist)"
      ],
      "execution_count": null,
      "outputs": []
    },
    {
      "cell_type": "markdown",
      "metadata": {
        "id": "c17iZl6fYkQ8"
      },
      "source": [
        "Получите строку документации для функции dis.info() и выведете его на экран"
      ]
    },
    {
      "cell_type": "code",
      "metadata": {
        "id": "uRFmwi5MZa0A"
      },
      "source": [
        ""
      ],
      "execution_count": null,
      "outputs": []
    },
    {
      "cell_type": "markdown",
      "metadata": {
        "id": "XYGM7OfzZbnS"
      },
      "source": [
        "Где (в байт-коде) для функции cond() происходит возврат значения. Получите байт-код для этой функции и перечислите все инструкции возврата значения."
      ]
    },
    {
      "cell_type": "code",
      "metadata": {
        "id": "qTohNlweZiLa"
      },
      "source": [
        "def cond():\n",
        "  x = 228\n",
        "  if x < 1337:\n",
        "    return '+'\n",
        "  else:\n",
        "    return '-'"
      ],
      "execution_count": null,
      "outputs": []
    },
    {
      "cell_type": "markdown",
      "metadata": {
        "id": "GHMQtNPWaOvn"
      },
      "source": [
        "Каким образом, не используя модуль dis можно получить байт-код для функции? Получите таким способом байт-код для следующей функции."
      ]
    },
    {
      "cell_type": "code",
      "metadata": {
        "id": "YcRTlgXJadVZ"
      },
      "source": [
        "def one_plue_one():\n",
        "     return 1+1"
      ],
      "execution_count": null,
      "outputs": []
    },
    {
      "cell_type": "markdown",
      "metadata": {
        "id": "suzONdISahNY"
      },
      "source": [
        "Узнать при помощи модуля inspect, в каком файле находится определение функции array.typecodes()."
      ]
    },
    {
      "cell_type": "code",
      "metadata": {
        "id": "NFqFYs1hbAE0"
      },
      "source": [
        ""
      ],
      "execution_count": null,
      "outputs": []
    }
  ]
}