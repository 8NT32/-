{
  "nbformat": 4,
  "nbformat_minor": 0,
  "metadata": {
    "colab": {
      "name": "Untitled3.ipynb",
      "provenance": [],
      "collapsed_sections": []
    },
    "kernelspec": {
      "name": "python3",
      "display_name": "Python 3"
    }
  },
  "cells": [
    {
      "cell_type": "code",
      "metadata": {
        "id": "jxbJBzzb897k"
      },
      "source": [
        "import hashlib"
      ],
      "execution_count": null,
      "outputs": []
    },
    {
      "cell_type": "markdown",
      "metadata": {
        "id": "D3a_cxL46wK1"
      },
      "source": [
        "Исправить код так, чтобы он работал с русским текстом:"
      ]
    },
    {
      "cell_type": "code",
      "metadata": {
        "id": "7lB1CrHN5-Hk"
      },
      "source": [
        "hashObject = hashlib.sha256(b\"Русский текст\")\n",
        "hexDigest = hashObject.hexdigest()\n",
        "\n",
        "print(hexDigest)"
      ],
      "execution_count": null,
      "outputs": []
    },
    {
      "cell_type": "markdown",
      "metadata": {
        "id": "N8tNkSjP79-f"
      },
      "source": [
        "Получить список доступных алгоритмов хеширования в системе:"
      ]
    },
    {
      "cell_type": "code",
      "metadata": {
        "id": "ZNMzKTJR886A"
      },
      "source": [
        "import subprocess"
      ],
      "execution_count": null,
      "outputs": []
    },
    {
      "cell_type": "markdown",
      "metadata": {
        "id": "gt6cq-cx9CyG"
      },
      "source": [
        "Используя модуль SUBPROCESS, узнать текущую рабочую директорию (pwd)."
      ]
    },
    {
      "cell_type": "code",
      "metadata": {
        "id": "R6IN63is921Y"
      },
      "source": [
        ""
      ],
      "execution_count": null,
      "outputs": []
    },
    {
      "cell_type": "markdown",
      "metadata": {
        "id": "m50O3TkXWvPn"
      },
      "source": [
        "Используя модуль HMAC, подписать URL ключом."
      ]
    },
    {
      "cell_type": "code",
      "metadata": {
        "id": "FkAethQwXEWx"
      },
      "source": [
        ""
      ],
      "execution_count": null,
      "outputs": []
    }
  ]
}