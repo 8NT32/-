{
  "nbformat": 4,
  "nbformat_minor": 0,
  "metadata": {
    "colab": {
      "name": "Untitled0.ipynb",
      "provenance": [],
      "collapsed_sections": []
    },
    "kernelspec": {
      "name": "python3",
      "display_name": "Python 3"
    }
  },
  "cells": [
    {
      "cell_type": "markdown",
      "metadata": {
        "id": "uBAfIn7zfnW7"
      },
      "source": [
        "**МОДУЛЬ INSPECT**\n",
        "\n",
        "Основное назначение модуля inspect - давать приложению информацию о модулях, классах, функциях, трассировочных объектах, фреймах исполнения и объектах кода.\n",
        "\n",
        "Python поддерживает полную интроспекцию (отражение) времени исполнения.\n",
        "\n",
        "**Что такое интроспекция?**\n",
        "\n",
        "Интроспекция (англ. type introspection) в программировании — возможность запросить тип и структуру объекта во время выполнения программы.\n",
        "\n",
        "Это означает, что для любого объекта можно получить всю информацию о его внутренней структуре и среде исполнения.\n",
        "\n",
        "Возможности интроспекции можно условно разделить на две группы: стандартные (описанные в документации по языку) и нестандартные (характерные для конкретной реализации языка, например, CPython).\n",
        "\n",
        "Для удобства получения интроспективной информации в Python есть модуль inspect.\n",
        "\n",
        "Модуль имеет функции для проверки принадлежности объектов различным типам, с которыми он работает:\n",
        "\n",
        "*   inspect.isclass (Класс)\n",
        "*   inspect.iscode (Код)\n",
        "*   inspect.isdatadescriptor (Описатель данных)\n",
        "*   inspect.isframe (Фрейм)\n",
        "*   inspect.isfunction (Функция)\n",
        "*   inspect.ismethod (Метод)\n",
        "*   inspect.ismethoddescriptor (Описатель метода)\n",
        "*   inspect.ismodule (Модуль)\n",
        "*   inspect.isroutine (Функция или метод)\n",
        "*   inspect.istraceback (Трассировочный объект)\n",
        "\n",
        "Примеры:"
      ]
    },
    {
      "cell_type": "code",
      "metadata": {
        "id": "cNIaj4LmhcSH"
      },
      "source": [
        "import inspect\n",
        "\n",
        "print(\"isbuiltin(len): \" + str(inspect.isbuiltin(len)))\n",
        "print(\"isroutine(lambda x: x+1): \" + str(inspect.isroutine(lambda x: x + 1)))\n",
        "print(\"ismethod(''.split): \" + str(inspect.ismethod(''.split)))\n",
        "print(\"isroutine(''.split): \" + str(inspect.isroutine(''.split)))\n",
        "print(\"isbuiltin(''.split): \" + str(inspect.isbuiltin(''.split)))\n",
        "print(\"ismodule(inspect): \" + str(inspect.ismodule(inspect)))"
      ],
      "execution_count": null,
      "outputs": []
    },
    {
      "cell_type": "markdown",
      "metadata": {
        "id": "55elpUpkmGbg"
      },
      "source": [
        "***Функция inspect.getfile()***\n",
        "\n",
        "Возвращает имя файла, в котором находится определение объекта object. Может вернуть TypeError, если эта информация не имеет смысла или недоступна (например, для встроенных функций)."
      ]
    },
    {
      "cell_type": "code",
      "metadata": {
        "id": "3G7jk0jdmNym"
      },
      "source": [
        "inspect.getfile(inspect.getfile)"
      ],
      "execution_count": null,
      "outputs": []
    },
    {
      "cell_type": "markdown",
      "metadata": {
        "id": "GZJ_P_wImhZw"
      },
      "source": [
        "***Функция inspect.currentframe()***\n",
        "\n",
        "Возвращает объект кадра стека, соответствующий кадру стека вызывающей функции.\n",
        "\n",
        "С помощью функции inspect.currentframe() можно получить текущий фрейм исполнения. Атрибуты фрейма исполнения дают информацию о блоке кода, исполняющегося в точке вызова метода. При вызове функции (и в некоторых других ситуациях) на стек кладется соответствующий этому фрейму блок кода. При возврате из функции текущим становится фрейм, хранившийся в стеке. Фрейм содержит контекст выполнения кода: пространства имен и некоторые другие данные. Получить эти данные можно через атрибуты фреймового объекта:"
      ]
    },
    {
      "cell_type": "code",
      "metadata": {
        "id": "2aKb-pMAmpYe"
      },
      "source": [
        "def f():\n",
        "  fr = inspect.currentframe()\n",
        "  for a in dir(fr):\n",
        "    if a[:2] != \"__\":\n",
        "        print(a, \":\", str(getattr(fr, a))[:70])\n",
        "\n",
        "f()"
      ],
      "execution_count": null,
      "outputs": []
    },
    {
      "cell_type": "markdown",
      "metadata": {
        "id": "hdbkEhIZkLcl"
      },
      "source": [
        "***Функция inspect.getdoc()***\n",
        "\n",
        "Возвращает строку документирования объекта object. Перед этим строка документирования обрабатывается функцией cleandoc()."
      ]
    },
    {
      "cell_type": "code",
      "metadata": {
        "id": "--1lCGXjlgPa"
      },
      "source": [
        "inspect.getdoc(inspect.getdoc)"
      ],
      "execution_count": null,
      "outputs": []
    },
    {
      "cell_type": "markdown",
      "metadata": {
        "id": "xY0EL2HznJeB"
      },
      "source": [
        "***Функция inspect.signature()***\n",
        "\n",
        "Объект Signature представляет подпись вызова вызываемого объекта и его аннотацию возврата."
      ]
    },
    {
      "cell_type": "code",
      "metadata": {
        "id": "FbcJqc7-nSNs"
      },
      "source": [
        "def test(x, y=1, z=2):\n",
        "  return x + y + z\n",
        "\n",
        "inspect.signature(test)"
      ],
      "execution_count": null,
      "outputs": []
    },
    {
      "cell_type": "markdown",
      "metadata": {
        "id": "aWJM2pQrRvMV"
      },
      "source": [
        "**МОДУЛЬ DIS**\n",
        "\n",
        "Модуль dis в стандартной библиотеке Python предоставляет \"дизассемблер\" для байт-кода Python.\n",
        "\n",
        "**Что такое байт-код Python?**\n",
        "\n",
        "Python, как и многие интерпретируемые языки, на самом деле компилирует исходный код в набор инструкций для виртуальной машины, и интерпретатор Python является реализацией этой виртуальной машины. Этот промежуточный формат называется \"байт-код\".\n",
        "\n",
        "По сравнению с исходным кодом, удобным для создания и чтения человеком, байт-код — это компактное представление программы, уже прошедшей синтаксический и семантический анализ.\n",
        "\n",
        "Пример:\n",
        "\n",
        "```\n",
        "print(“TEST STRING”)\n",
        "```\n",
        "И представление в байт коде\n",
        "\n",
        "```\n",
        "2  0 LOAD_GLOBAL    0 (print)\n",
        "   2 LOAD_CONST     1 (‘TEST STRING’)\n",
        "   4 CALL_FUNCTION  1\n",
        "\n",
        "```\n",
        "\n",
        "CPython использует виртуальную машину на основе стека. То есть он полностью ориентирован на структуры данных стека.\n",
        "Каждый код операции на языке байт-кода Python принимает фиксированное количество элементов из стека и возвращает фиксированное количество элементов в стек. Если в стеке недостаточно элементов для кода операции, интерпретатор Python будет аварийно завершён, иногда даже, без сообщения об ошибке.\n",
        "\n",
        "Определим тестовую функцию и разберём её:"
      ]
    },
    {
      "cell_type": "code",
      "metadata": {
        "id": "oGQPB2ubXls3"
      },
      "source": [
        "def test():\n",
        "  print(\"TEST STRING\")"
      ],
      "execution_count": null,
      "outputs": []
    },
    {
      "cell_type": "markdown",
      "metadata": {
        "id": "-jgRoEuHXcVd"
      },
      "source": [
        "Доступ к байт-коду в RAW-виде можно получить с помощью интроспекции следующим образом:"
      ]
    },
    {
      "cell_type": "code",
      "metadata": {
        "id": "oDOOGVGwXAsG"
      },
      "source": [
        "test.__code__.co_code"
      ],
      "execution_count": null,
      "outputs": []
    },
    {
      "cell_type": "markdown",
      "metadata": {
        "id": "m_MaLbJzXzHm"
      },
      "source": [
        "Однако для человекочитаемой формы следует воспользоваться модулем dis из стандартной библиотеки.\n",
        "\n",
        "***1. Функция dis.dis()***"
      ]
    },
    {
      "cell_type": "code",
      "metadata": {
        "id": "dQHHeeLcTaXd"
      },
      "source": [
        "import dis\n",
        "\n",
        "dis.dis(test)"
      ],
      "execution_count": null,
      "outputs": []
    },
    {
      "cell_type": "markdown",
      "metadata": {
        "id": "E7OO_CKwT_h0"
      },
      "source": [
        "Самый левый столбик - это номер линии кода из которого получен данный объект кода. Следующий столбец - смещение в пределах байт-кода для каждой инструкции: 0 байтов для первой, 2 для второй и т.д. Третий столбец - сама инструкция, а четвёртый - аргумент этой инструкции, если есть, так же как и значение этого аргумента, указанное в скобках.\n",
        "\n",
        "**Условные выражения и циклы**\n",
        "\n",
        "До сих пор, интерпретатор выполнял код просто пошагово переходя от одной инструкции к следующей. В этом проблема; часто нам нужно выполнить определённые инструкции много раз, или пропускать их при определённых условиях. Для того, чтобы мы могли в нашем коде писать циклы и инструкции if, интерпретатор должен уметь переходить на любую инструкцию. В некотором смысле, в байт-коде языке Python циклы и условные выражения обрабатываются с помощью операторов безусловного перехода (GOTO).\n",
        "\n",
        "Определим функцию с некоторым условием:"
      ]
    },
    {
      "cell_type": "code",
      "metadata": {
        "id": "x16VPO-EVlZg"
      },
      "source": [
        "def cond():\n",
        "  x = 228\n",
        "  if x < 1337:\n",
        "    return '+'\n",
        "  else:\n",
        "    return '-'"
      ],
      "execution_count": null,
      "outputs": []
    },
    {
      "cell_type": "markdown",
      "metadata": {
        "id": "t4MPVxJzY6QW"
      },
      "source": [
        "И получим для неё байт-код:"
      ]
    },
    {
      "cell_type": "code",
      "metadata": {
        "id": "GX-evJSQY_LR"
      },
      "source": [
        "dis.dis(cond)"
      ],
      "execution_count": null,
      "outputs": []
    },
    {
      "cell_type": "markdown",
      "metadata": {
        "id": "dhO40JCJL6HS"
      },
      "source": [
        "Отличие циклов for и while на уровне байт-кода:"
      ]
    },
    {
      "cell_type": "code",
      "metadata": {
        "id": "dW2QvFmwZSgb"
      },
      "source": [
        "def testFor():\n",
        "  for number in range(10):\n",
        "      print(number)\n",
        "\n",
        "def testWhile():\n",
        "  i = 0\n",
        "  while i < 10:\n",
        "    print(i)\n",
        "    i = i + 1\n",
        "\n",
        "dis.dis(testFor)\n",
        "print(\"---\")\n",
        "dis.dis(testWhile)"
      ],
      "execution_count": null,
      "outputs": []
    },
    {
      "cell_type": "markdown",
      "metadata": {
        "id": "HkCoONhQaHU0"
      },
      "source": [
        "***Функция dis.distb()***\n",
        "\n",
        "Вы можете передать ему объект трассировки Python или вызвать его после возникновения исключения, и он разберёт самую верхнюю функцию в стеке вызовов во время исключения, напечатает его байт-код и вставит указатель на инструкцию, которая вызвала исключение."
      ]
    },
    {
      "cell_type": "code",
      "metadata": {
        "id": "eo_33pdmanxL"
      },
      "source": [
        "def exceptionTest(iNum):\n",
        "  return 1337 / iNum\n",
        "\n",
        "try:\n",
        "  exceptionTest(0)\n",
        "except Exception:\n",
        "  dis.distb()\n"
      ],
      "execution_count": null,
      "outputs": []
    },
    {
      "cell_type": "markdown",
      "metadata": {
        "id": "7DWi-89yd_Vt"
      },
      "source": [
        "***Функция dis.code_info()***\n",
        "\n",
        "Возвращает отформатированную строку с подробной информацией об объекте кода для предоставленной функции, генератора, асинхронного генератора, сопрограммы, метода, строки исходного кода или объекта кода."
      ]
    },
    {
      "cell_type": "code",
      "metadata": {
        "id": "ENGLr2BweMJ7"
      },
      "source": [
        "dis.code_info(test)"
      ],
      "execution_count": null,
      "outputs": []
    },
    {
      "cell_type": "markdown",
      "metadata": {
        "id": "VJMwy65We3DK"
      },
      "source": [
        "***Функция dis.show_code()***\n",
        "\n",
        "Возвращает отформатированную строку с подробной информацией об объекте кода для предоставленной функции, генератора, асинхронного генератора, сопрограммы, метода, строки исходного кода или объекта кода."
      ]
    },
    {
      "cell_type": "code",
      "metadata": {
        "id": "3zvnCOu2e6NV"
      },
      "source": [
        "dis.show_code(test)"
      ],
      "execution_count": null,
      "outputs": []
    },
    {
      "cell_type": "markdown",
      "metadata": {
        "id": "zEPR7jEFdZ7U"
      },
      "source": [
        "Полный список всех иструкций байт-кода для Python можно обнаружить по адресу: https://docs.python.org/3/library/dis.html#python-bytecode-instructions"
      ]
    }
  ]
}